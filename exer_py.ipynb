{
  "nbformat": 4,
  "nbformat_minor": 0,
  "metadata": {
    "colab": {
      "provenance": [],
      "authorship_tag": "ABX9TyMN0fXrj9jaBHqtSmfvHQa2",
      "include_colab_link": true
    },
    "kernelspec": {
      "name": "python3",
      "display_name": "Python 3"
    },
    "language_info": {
      "name": "python"
    }
  },
  "cells": [
    {
      "cell_type": "markdown",
      "metadata": {
        "id": "view-in-github",
        "colab_type": "text"
      },
      "source": [
        "<a href=\"https://colab.research.google.com/github/mariajulia-bds/exercicios_colab.py/blob/main/exer_py.ipynb\" target=\"_parent\"><img src=\"https://colab.research.google.com/assets/colab-badge.svg\" alt=\"Open In Colab\"/></a>"
      ]
    },
    {
      "cell_type": "markdown",
      "source": [
        "Nome: Maria Júlia Barros da Silva\n",
        "\n",
        "1 - if, elife e else.\n",
        "\n",
        "Uma pessoa teria direito a um número sorteado, e se esse número sorteado for o número da sorte, ela poderá ganhar o prêmio."
      ],
      "metadata": {
        "id": "fABDZRdVDQhb"
      }
    },
    {
      "cell_type": "code",
      "source": [
        "n_da_sorte = 15  # número da sorte para ganhar um ventilador\n",
        "n_tente_novamente = 7  # número com direito a mais uma tentativa\n",
        "n_sorteado = 7  # número sorteado\n",
        "\n",
        "if n_da_sorte == n_sorteado:\n",
        "    print(\"Parabéns, você ganhou um ventilador\")\n",
        "elif n_sorteado == n_tente_novamente:\n",
        "    print(\"Não foi dessa vez, mas você ganhou mais uma tentativa\")\n",
        "else:\n",
        "    print(\"Não foi dessa vez, obrigado por participar e até a próxima\")\n"
      ],
      "metadata": {
        "colab": {
          "base_uri": "https://localhost:8080/"
        },
        "id": "yQoez3XvE4j8",
        "outputId": "510ee8e9-ebf8-4544-d059-28343bbafeb7"
      },
      "execution_count": null,
      "outputs": [
        {
          "output_type": "stream",
          "name": "stdout",
          "text": [
            "Não foi dessa vez, mas você ganhou mais uma tentativa\n"
          ]
        }
      ]
    },
    {
      "cell_type": "markdown",
      "source": [
        "2 - While e matriz\n",
        "\n",
        "Sistema para adicionar 10% de desconto para o intem selecionado.\n"
      ],
      "metadata": {
        "id": "F9micK99K_iY"
      }
    },
    {
      "cell_type": "code",
      "source": [
        "import random #sortear linha e coluna\n",
        "\n",
        "matriz_preco = [\n",
        "    [10, 50, 5.98],\n",
        "    [4.30, 70, 3.99],\n",
        "    [0.96, 0.50, 40]\n",
        "]\n",
        "\n",
        "desconto = 0.1  # desconto de 10%\n",
        "\n",
        "aplicado = False  # continuar tentando enquanto o desconto n for aplicado\n",
        "while not aplicado:\n",
        "    linha = random.randint(0, 2) # sortear um número entre  0 = linha e 2 = coluna\n",
        "    coluna = random.randint(0, 2)\n",
        "    valor = matriz_preco[linha][coluna] # pega o valor na posição sorteada\n",
        "    valor_desconto = round(valor * (1 - desconto), 2) # aplica o desconto de 10%\n",
        "    aplicado = True # sair do loop = desconto aplicado\n",
        "    print(f\"linha {linha + 1} depois do desconto:\")\n",
        "    print(\" | \".join(f\"R${valor:.2f}\" if indice == coluna else f\"R${valor:.2f}\" #formatar cada elento\n",
        "                     for indice, valor in\n",
        "                     enumerate(matriz_preco[linha]))) # numera cada elemento\n",
        "    print(f\"Valor antes do desconto: R${valor:.2f}\")\n",
        "    print(f\"Valor com desconto: R${valor_desconto:.2f}\")\n"
      ],
      "metadata": {
        "colab": {
          "base_uri": "https://localhost:8080/"
        },
        "id": "npbSZN63LnK4",
        "outputId": "4a1feac0-7ecb-482d-cc12-ddc49f75e0e4"
      },
      "execution_count": null,
      "outputs": [
        {
          "output_type": "stream",
          "name": "stdout",
          "text": [
            "linha 3 depois do desconto:\n",
            "R$0.96 | R$0.50 | R$40.00\n",
            "Valor antes do desconto: R$40.00\n",
            "Valor com desconto: R$36.00\n"
          ]
        }
      ]
    },
    {
      "cell_type": "markdown",
      "source": [
        "3 - while + if\n",
        "   \n",
        "Programa que mostra a idade das pessoas e qual tipo de senha ela vai receber."
      ],
      "metadata": {
        "id": "AYaQCbfbLzio"
      }
    },
    {
      "cell_type": "code",
      "source": [
        "idades = [63, 37, 88, 23]  #lista idade, cada um representa a idade de cada pessoa na fila\n",
        "contador = 0  #vai pecorrer a lista idades\n",
        "while contador < len(idades):  #contador menor que o tamnaho da lista, len(idades) = 4 lista\n",
        "    idade = idades[contador]   #pega a idade e o indice atual -> 65...\n",
        "    print(f\"Pessoa {contador + 1}: idade {idade}\") #mostra o número da pessoa e sua idade\n",
        "    if idade >= 60:  #se a idade for 60 ou mais\n",
        "        print(\"Senha preferencial\")\n",
        "    else:\n",
        "        print(\"Senha Comum\")\n",
        "    contador = contador + 1 #icrementa o contador para a proxima idade até o 4"
      ],
      "metadata": {
        "colab": {
          "base_uri": "https://localhost:8080/"
        },
        "id": "CwqGjfyTMW6e",
        "outputId": "0ba5845e-749e-473d-ceb9-9b4e8a22617e"
      },
      "execution_count": null,
      "outputs": [
        {
          "output_type": "stream",
          "name": "stdout",
          "text": [
            "Pessoa 1: idade 63\n",
            "Senha preferencial\n",
            "Pessoa 2: idade 37\n",
            "Senha Comum\n",
            "Pessoa 3: idade 88\n",
            "Senha preferencial\n",
            "Pessoa 4: idade 23\n",
            "Senha Comum\n"
          ]
        }
      ]
    }
  ]
}